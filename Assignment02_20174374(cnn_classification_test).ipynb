{
  "nbformat": 4,
  "nbformat_minor": 0,
  "metadata": {
    "colab": {
      "name": "Assignment02_20174374(cnn-classification-test).ipynb",
      "provenance": [],
      "collapsed_sections": [],
      "include_colab_link": true
    },
    "kernelspec": {
      "name": "python3",
      "display_name": "Python 3"
    },
    "accelerator": "GPU"
  },
  "cells": [
    {
      "cell_type": "markdown",
      "metadata": {
        "id": "view-in-github",
        "colab_type": "text"
      },
      "source": [
        "<a href=\"https://colab.research.google.com/github/SistinaLove/2020_Fall_AI/blob/master/Assignment02_20174374(cnn_classification_test).ipynb\" target=\"_parent\"><img src=\"https://colab.research.google.com/assets/colab-badge.svg\" alt=\"Open In Colab\"/></a>"
      ]
    },
    {
      "cell_type": "code",
      "metadata": {
        "id": "qYNwGtUhBkM4",
        "colab_type": "code",
        "colab": {}
      },
      "source": [
        "import tensorflow as tf\n",
        "import keras \n",
        "\n",
        "from keras.models import Sequential\n",
        "from keras.layers import Conv2D, MaxPooling2D, Dense, Flatten, AveragePooling2D\n",
        "from keras.optimizers import Adam\n",
        "from keras.losses import sparse_categorical_crossentropy as scc\n",
        "from keras.datasets import cifar10\n",
        "\n",
        "import numpy as np"
      ],
      "execution_count": 9,
      "outputs": []
    },
    {
      "cell_type": "code",
      "metadata": {
        "id": "WVhN95baBpi6",
        "colab_type": "code",
        "colab": {}
      },
      "source": [
        "def build_model(width, height, channel):\n",
        "    # 초기화\n",
        "    model = Sequential()\n",
        "    \n",
        "    # 레이어에 대한 정보 = Conv2D~\n",
        "    model.add(Conv2D(\n",
        "        filters=16,\n",
        "        kernel_size=(3,3),\n",
        "        padding='same',\n",
        "        activation='relu',\n",
        "        input_shape=(width, height, channel)\n",
        "        # 제일 처음에는 어떤 사이즈의 이미지 들어올 것인지 input shape넣어줘야 한다\n",
        "    ))\n",
        "    model.add(Conv2D(\n",
        "        filters=16,\n",
        "        kernel_size=(3,3),\n",
        "        padding='same',\n",
        "        activation='relu'\n",
        "    ))\n",
        "    # MaxPooling을 한 번 할 때마다 이미지 전체 사이즈가 반으로 줄어든다고 생각하면 된다\n",
        "    model.add(MaxPooling2D(\n",
        "        pool_size=(2,2),\n",
        "        padding='same'\n",
        "    ))\n",
        "\n",
        "    model.add(Conv2D(\n",
        "        filters=32,\n",
        "        kernel_size=(3,3),\n",
        "        padding='same',\n",
        "        activation='relu'\n",
        "    ))\n",
        "    model.add(MaxPooling2D(\n",
        "        pool_size=(2,2),\n",
        "        padding='same'\n",
        "    ))\n",
        "\n",
        "    model.add(Conv2D(\n",
        "        filters=64,\n",
        "        kernel_size=(3,3),\n",
        "        padding='same',\n",
        "        activation='relu'\n",
        "    ))\n",
        "    # 8*8중에 평균값 가져온다\n",
        "    model.add(AveragePooling2D(\n",
        "        pool_size=(8,8),\n",
        "        padding='same'\n",
        "    ))\n",
        "    # 3차원 -> 1차원\n",
        "    model.add(Flatten())\n",
        "    # 길게 펼치기\n",
        "    model.add(Dense(\n",
        "        units=640,\n",
        "        activation='relu'\n",
        "    ))\n",
        "    # 마지막 결과가 10개로 나오게(units)\n",
        "    model.add(Dense(\n",
        "        units=10,\n",
        "        activation='softmax'\n",
        "    ))\n",
        "\n",
        "    # Adam이 효율이 가장 좋다, loss값은 기본으로 출력, 여기에 accuracy를 하나 더 출력하겠다는 의미\n",
        "    opt = Adam(learning_rate=0.001)\n",
        "    model.compile(\n",
        "        optimizer=opt,\n",
        "        loss=scc,\n",
        "        metrics=['accuracy']\n",
        "    )\n",
        "\n",
        "    return model\n"
      ],
      "execution_count": 10,
      "outputs": []
    },
    {
      "cell_type": "code",
      "metadata": {
        "id": "yelvesfSBtH4",
        "colab_type": "code",
        "colab": {}
      },
      "source": [
        "# 데이터 전처리과정 - 현재는 설명 X\n",
        "def data_preprocessing():\n",
        "    (X_train, Y_train), (X_test, Y_test) = cifar10.load_data()\n",
        "\n",
        "    mean=[0,0,0]\n",
        "    std=[0,0,0]\n",
        "    newX_train = np.ones(X_train.shape)\n",
        "    newX_test = np.ones(X_test.shape)\n",
        "    #train set에 있는 데이터로만 평균과 표준편차를 구함\n",
        "    for i in range(3):\n",
        "        mean[i] = np.mean(X_train[:,:,:,i])\n",
        "        std[i] = np.std(X_train[:,:,:,i])\n",
        "\n",
        "    #train과 test셋 모두 정규화 작업    \n",
        "    for i in range(3):\n",
        "        newX_train[:,:,:,i] = X_train[:,:,:,i] - mean[i]\n",
        "        newX_train[:,:,:,i] = newX_train[:,:,:,i] / std[i]\n",
        "        newX_test[:,:,:,i] = X_test[:,:,:,i] - mean[i]\n",
        "        newX_test[:,:,:,i] = newX_test[:,:,:,i] / std[i]\n",
        "            \n",
        "    X_train = newX_train\n",
        "    X_test = newX_test\n",
        "\n",
        "    return (X_train, Y_train), (X_test, Y_test)\n"
      ],
      "execution_count": 11,
      "outputs": []
    },
    {
      "cell_type": "code",
      "metadata": {
        "id": "Wf2ViniGBwRZ",
        "colab_type": "code",
        "colab": {
          "base_uri": "https://localhost:8080/",
          "height": 1000
        },
        "outputId": "34d059b6-69a4-469a-944b-d627f72a20b6"
      },
      "source": [
        "#(X_train, Y_train), (X_test, Y_test) = data_preprocessing()\n",
        "# cifar10이라는 데이터 셋을 가져온다\n",
        "(X_train, Y_train), (X_test, Y_test) = cifar10.load_data()\n",
        "\n",
        "# 1번 인덱스 32 / 2번 인덱스 32 / 3번 인덱스 3\n",
        "model = build_model(X_train.shape[1],X_train.shape[2],X_train.shape[3] )\n",
        "\n",
        "hist = model.fit(\n",
        "    X_train, Y_train, \n",
        "    # batch_size = 1, 2, 4, 8, ... 보통은 64 많이 사용\n",
        "    batch_size=64, epochs=40, \n",
        "    # verbose = 0 <= 한 줄 한 줄 결과 출력 X\n",
        "    verbose=1, \n",
        "    # validation_split : 데이터 중, 어느 비율로 학습&테스트 할 지 정한다. ex) 0.1 => 50000 -> 45000 학습, 5000 테스트\n",
        "    shuffle=True, validation_split=0.02\n",
        ")\n",
        "\n",
        "model.evaluate(X_test, Y_test, verbose=1)"
      ],
      "execution_count": 12,
      "outputs": [
        {
          "output_type": "stream",
          "text": [
            "Epoch 1/40\n",
            "766/766 [==============================] - 6s 8ms/step - loss: 1.6220 - accuracy: 0.4050 - val_loss: 1.3562 - val_accuracy: 0.5180\n",
            "Epoch 2/40\n",
            "766/766 [==============================] - 5s 7ms/step - loss: 1.2146 - accuracy: 0.5622 - val_loss: 1.1250 - val_accuracy: 0.6090\n",
            "Epoch 3/40\n",
            "766/766 [==============================] - 5s 7ms/step - loss: 1.0618 - accuracy: 0.6239 - val_loss: 1.0243 - val_accuracy: 0.6320\n",
            "Epoch 4/40\n",
            "766/766 [==============================] - 5s 7ms/step - loss: 0.9608 - accuracy: 0.6607 - val_loss: 0.8917 - val_accuracy: 0.6850\n",
            "Epoch 5/40\n",
            "766/766 [==============================] - 5s 7ms/step - loss: 0.8788 - accuracy: 0.6877 - val_loss: 0.8900 - val_accuracy: 0.6850\n",
            "Epoch 6/40\n",
            "766/766 [==============================] - 5s 7ms/step - loss: 0.8185 - accuracy: 0.7115 - val_loss: 0.8227 - val_accuracy: 0.7310\n",
            "Epoch 7/40\n",
            "766/766 [==============================] - 5s 7ms/step - loss: 0.7673 - accuracy: 0.7276 - val_loss: 0.9206 - val_accuracy: 0.6910\n",
            "Epoch 8/40\n",
            "766/766 [==============================] - 5s 7ms/step - loss: 0.7310 - accuracy: 0.7424 - val_loss: 0.8157 - val_accuracy: 0.7250\n",
            "Epoch 9/40\n",
            "766/766 [==============================] - 5s 7ms/step - loss: 0.6885 - accuracy: 0.7584 - val_loss: 0.8144 - val_accuracy: 0.7260\n",
            "Epoch 10/40\n",
            "766/766 [==============================] - 5s 7ms/step - loss: 0.6612 - accuracy: 0.7673 - val_loss: 0.7407 - val_accuracy: 0.7480\n",
            "Epoch 11/40\n",
            "766/766 [==============================] - 5s 7ms/step - loss: 0.6236 - accuracy: 0.7783 - val_loss: 0.7491 - val_accuracy: 0.7450\n",
            "Epoch 12/40\n",
            "766/766 [==============================] - 5s 7ms/step - loss: 0.6038 - accuracy: 0.7875 - val_loss: 0.7237 - val_accuracy: 0.7480\n",
            "Epoch 13/40\n",
            "766/766 [==============================] - 5s 7ms/step - loss: 0.5757 - accuracy: 0.7981 - val_loss: 0.7266 - val_accuracy: 0.7700\n",
            "Epoch 14/40\n",
            "766/766 [==============================] - 5s 7ms/step - loss: 0.5479 - accuracy: 0.8057 - val_loss: 0.7978 - val_accuracy: 0.7400\n",
            "Epoch 15/40\n",
            "766/766 [==============================] - 5s 7ms/step - loss: 0.5277 - accuracy: 0.8122 - val_loss: 0.8129 - val_accuracy: 0.7360\n",
            "Epoch 16/40\n",
            "766/766 [==============================] - 5s 7ms/step - loss: 0.5105 - accuracy: 0.8176 - val_loss: 0.7430 - val_accuracy: 0.7680\n",
            "Epoch 17/40\n",
            "766/766 [==============================] - 5s 7ms/step - loss: 0.4880 - accuracy: 0.8268 - val_loss: 0.7265 - val_accuracy: 0.7610\n",
            "Epoch 18/40\n",
            "766/766 [==============================] - 5s 7ms/step - loss: 0.4678 - accuracy: 0.8331 - val_loss: 0.7526 - val_accuracy: 0.7680\n",
            "Epoch 19/40\n",
            "766/766 [==============================] - 5s 7ms/step - loss: 0.4539 - accuracy: 0.8356 - val_loss: 0.7445 - val_accuracy: 0.7680\n",
            "Epoch 20/40\n",
            "766/766 [==============================] - 5s 7ms/step - loss: 0.4324 - accuracy: 0.8440 - val_loss: 0.8174 - val_accuracy: 0.7490\n",
            "Epoch 21/40\n",
            "766/766 [==============================] - 5s 7ms/step - loss: 0.4118 - accuracy: 0.8522 - val_loss: 0.7969 - val_accuracy: 0.7500\n",
            "Epoch 22/40\n",
            "766/766 [==============================] - 6s 7ms/step - loss: 0.3997 - accuracy: 0.8561 - val_loss: 0.8372 - val_accuracy: 0.7540\n",
            "Epoch 23/40\n",
            "766/766 [==============================] - 6s 8ms/step - loss: 0.3915 - accuracy: 0.8574 - val_loss: 0.8643 - val_accuracy: 0.7360\n",
            "Epoch 24/40\n",
            "766/766 [==============================] - 6s 7ms/step - loss: 0.3720 - accuracy: 0.8661 - val_loss: 0.8373 - val_accuracy: 0.7540\n",
            "Epoch 25/40\n",
            "766/766 [==============================] - 5s 7ms/step - loss: 0.3532 - accuracy: 0.8721 - val_loss: 0.8132 - val_accuracy: 0.7630\n",
            "Epoch 26/40\n",
            "766/766 [==============================] - 5s 7ms/step - loss: 0.3486 - accuracy: 0.8741 - val_loss: 0.8890 - val_accuracy: 0.7390\n",
            "Epoch 27/40\n",
            "766/766 [==============================] - 5s 7ms/step - loss: 0.3278 - accuracy: 0.8808 - val_loss: 0.9506 - val_accuracy: 0.7510\n",
            "Epoch 28/40\n",
            "766/766 [==============================] - 5s 7ms/step - loss: 0.3181 - accuracy: 0.8840 - val_loss: 0.9807 - val_accuracy: 0.7220\n",
            "Epoch 29/40\n",
            "766/766 [==============================] - 5s 7ms/step - loss: 0.3104 - accuracy: 0.8885 - val_loss: 0.9271 - val_accuracy: 0.7410\n",
            "Epoch 30/40\n",
            "766/766 [==============================] - 5s 7ms/step - loss: 0.2956 - accuracy: 0.8933 - val_loss: 1.0195 - val_accuracy: 0.7370\n",
            "Epoch 31/40\n",
            "766/766 [==============================] - 5s 7ms/step - loss: 0.2839 - accuracy: 0.8964 - val_loss: 1.0088 - val_accuracy: 0.7500\n",
            "Epoch 32/40\n",
            "766/766 [==============================] - 5s 7ms/step - loss: 0.2687 - accuracy: 0.9019 - val_loss: 1.0471 - val_accuracy: 0.7430\n",
            "Epoch 33/40\n",
            "766/766 [==============================] - 5s 7ms/step - loss: 0.2660 - accuracy: 0.9046 - val_loss: 1.1211 - val_accuracy: 0.7400\n",
            "Epoch 34/40\n",
            "766/766 [==============================] - 5s 7ms/step - loss: 0.2573 - accuracy: 0.9068 - val_loss: 1.1291 - val_accuracy: 0.7370\n",
            "Epoch 35/40\n",
            "766/766 [==============================] - 5s 7ms/step - loss: 0.2566 - accuracy: 0.9074 - val_loss: 1.0788 - val_accuracy: 0.7290\n",
            "Epoch 36/40\n",
            "766/766 [==============================] - 5s 7ms/step - loss: 0.2407 - accuracy: 0.9125 - val_loss: 1.2271 - val_accuracy: 0.7290\n",
            "Epoch 37/40\n",
            "766/766 [==============================] - 5s 7ms/step - loss: 0.2374 - accuracy: 0.9146 - val_loss: 1.1965 - val_accuracy: 0.7370\n",
            "Epoch 38/40\n",
            "766/766 [==============================] - 5s 7ms/step - loss: 0.2315 - accuracy: 0.9174 - val_loss: 1.2059 - val_accuracy: 0.7420\n",
            "Epoch 39/40\n",
            "766/766 [==============================] - 5s 7ms/step - loss: 0.2258 - accuracy: 0.9172 - val_loss: 1.2282 - val_accuracy: 0.7360\n",
            "Epoch 40/40\n",
            "766/766 [==============================] - 5s 7ms/step - loss: 0.2144 - accuracy: 0.9223 - val_loss: 1.3236 - val_accuracy: 0.7280\n",
            "313/313 [==============================] - 1s 3ms/step - loss: 1.4068 - accuracy: 0.7184\n"
          ],
          "name": "stdout"
        },
        {
          "output_type": "execute_result",
          "data": {
            "text/plain": [
              "[1.4067504405975342, 0.7184000015258789]"
            ]
          },
          "metadata": {
            "tags": []
          },
          "execution_count": 12
        }
      ]
    },
    {
      "cell_type": "code",
      "metadata": {
        "id": "N9rx4cfEDfDd",
        "colab_type": "code",
        "colab": {}
      },
      "source": [
        "import matplotlib.pyplot as plt"
      ],
      "execution_count": 13,
      "outputs": []
    },
    {
      "cell_type": "code",
      "metadata": {
        "id": "tL--exLPGRZc",
        "colab_type": "code",
        "colab": {
          "base_uri": "https://localhost:8080/",
          "height": 545
        },
        "outputId": "477c94cd-d77f-4dbb-f1a6-bf801b3ede10"
      },
      "source": [
        "plt.plot(hist.history['loss']) # 얼마나 정답이랑 거리가 있는지(점차 낮아짐)\n",
        "plt.title(\"loss history\") \n",
        "plt.show()\n",
        "\n",
        "plt.plot(hist.history['accuracy']) # 얼마나 정답이랑 가까운점(점차 올라감)\n",
        "plt.title(\"acc history\")\n",
        "plt.show()"
      ],
      "execution_count": 14,
      "outputs": [
        {
          "output_type": "display_data",
          "data": {
            "image/png": "[encoded data removed]",
            "text/plain": [
              "<Figure size 432x288 with 1 Axes>"
            ]
          },
          "metadata": {
            "tags": [],
            "needs_background": "light"
          }
        },
        {
          "output_type": "display_data",
          "data": {
            "image/png": "[encoded data removed]",
            "text/plain": [
              "<Figure size 432x288 with 1 Axes>"
            ]
          },
          "metadata": {
            "tags": [],
            "needs_background": "light"
          }
        }
      ]
    }
  ]
}